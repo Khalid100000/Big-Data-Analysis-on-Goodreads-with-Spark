{
  "nbformat": 4,
  "nbformat_minor": 0,
  "metadata": {
    "colab": {
      "name": "BigData_FinalProject_DatsetsDownloading.ipynb",
      "provenance": [],
      "collapsed_sections": []
    },
    "kernelspec": {
      "name": "python3",
      "display_name": "Python 3"
    },
    "language_info": {
      "name": "python"
    }
  },
  "cells": [
    {
      "cell_type": "code",
      "execution_count": null,
      "metadata": {
        "colab": {
          "base_uri": "https://localhost:8080/"
        },
        "id": "cznzIl7jSS9r",
        "outputId": "53894f3e-977b-4d48-99a1-03058f692b1a"
      },
      "outputs": [
        {
          "output_type": "stream",
          "name": "stdout",
          "text": [
            "--2022-01-03 18:57:15--  https://files.grouplens.org/datasets/tag-genome-2021/genome_2021.zip\n",
            "Resolving files.grouplens.org (files.grouplens.org)... 128.101.65.152\n",
            "Connecting to files.grouplens.org (files.grouplens.org)|128.101.65.152|:443... connected.\n",
            "HTTP request sent, awaiting response... 200 OK\n",
            "Length: 1928028583 (1.8G) [application/zip]\n",
            "Saving to: ‘genome_2021.zip’\n",
            "\n",
            "genome_2021.zip     100%[===================>]   1.79G  42.1MB/s    in 26s     \n",
            "\n",
            "2022-01-03 18:57:42 (70.7 MB/s) - ‘genome_2021.zip’ saved [1928028583/1928028583]\n",
            "\n"
          ]
        }
      ],
      "source": [
        "# downloading the file \n",
        "!wget https://files.grouplens.org/datasets/tag-genome-2021/genome_2021.zip"
      ]
    },
    {
      "cell_type": "code",
      "source": [
        "#extracting the file \n",
        "!unzip \"/content/genome_2021.zip\" -d \"genome_2021\""
      ],
      "metadata": {
        "colab": {
          "base_uri": "https://localhost:8080/"
        },
        "id": "vgd7uUWhTVjm",
        "outputId": "daf4f22c-3214-4411-e102-846c050fbf0f"
      },
      "execution_count": null,
      "outputs": [
        {
          "output_type": "stream",
          "name": "stdout",
          "text": [
            "Archive:  /content/genome_2021.zip\n",
            "   creating: genome_2021/movie_dataset_public_final/\n",
            "  inflating: genome_2021/movie_dataset_public_final/.DS_Store  \n",
            "  inflating: genome_2021/__MACOSX/movie_dataset_public_final/._.DS_Store  \n",
            "   creating: genome_2021/movie_dataset_public_final/scores/\n",
            "  inflating: genome_2021/movie_dataset_public_final/readme.txt  \n",
            "  inflating: genome_2021/__MACOSX/movie_dataset_public_final/._readme.txt  \n",
            "   creating: genome_2021/movie_dataset_public_final/processed/\n",
            "   creating: genome_2021/movie_dataset_public_final/raw/\n",
            "  inflating: genome_2021/__MACOSX/movie_dataset_public_final/._raw  \n",
            "   creating: genome_2021/movie_dataset_public_final/predictions/\n",
            "  inflating: genome_2021/movie_dataset_public_final/scores/glmer.csv  \n",
            "  inflating: genome_2021/movie_dataset_public_final/scores/tagdl.csv  \n",
            "  inflating: genome_2021/movie_dataset_public_final/scores/.DS_Store  \n",
            "  inflating: genome_2021/__MACOSX/movie_dataset_public_final/scores/._.DS_Store  \n",
            "  inflating: genome_2021/movie_dataset_public_final/processed/.DS_Store  \n",
            "  inflating: genome_2021/__MACOSX/movie_dataset_public_final/processed/._.DS_Store  \n",
            "   creating: genome_2021/movie_dataset_public_final/processed/10folds/\n",
            "  inflating: genome_2021/movie_dataset_public_final/processed/features_r.csv  \n",
            "  inflating: genome_2021/__MACOSX/movie_dataset_public_final/processed/._features_r.csv  \n",
            "  inflating: genome_2021/movie_dataset_public_final/raw/reviews.json  \n",
            "  inflating: genome_2021/movie_dataset_public_final/raw/.DS_Store  \n",
            "  inflating: genome_2021/__MACOSX/movie_dataset_public_final/raw/._.DS_Store  \n",
            "  inflating: genome_2021/movie_dataset_public_final/raw/survey_answers.json  \n",
            "  inflating: genome_2021/movie_dataset_public_final/raw/metadata.json  \n",
            "  inflating: genome_2021/movie_dataset_public_final/raw/metadata_updated.json  \n",
            "  inflating: genome_2021/movie_dataset_public_final/raw/ratings.json  \n",
            "  inflating: genome_2021/movie_dataset_public_final/raw/tags.json  \n",
            "  inflating: genome_2021/movie_dataset_public_final/raw/tag_count.json  \n",
            "  inflating: genome_2021/movie_dataset_public_final/predictions/.DS_Store  \n",
            "  inflating: genome_2021/__MACOSX/movie_dataset_public_final/predictions/._.DS_Store  \n",
            "  inflating: genome_2021/movie_dataset_public_final/predictions/glmer_predictions_fold_0.txt  \n",
            "  inflating: genome_2021/movie_dataset_public_final/predictions/tagdl_predictions_fold_5.txt  \n",
            "  inflating: genome_2021/movie_dataset_public_final/predictions/tagdl_predictions_fold_4.txt  \n",
            "  inflating: genome_2021/movie_dataset_public_final/predictions/glmer_predictions_fold_1.txt  \n",
            "  inflating: genome_2021/movie_dataset_public_final/predictions/glmer_predictions_fold_3.txt  \n",
            "  inflating: genome_2021/movie_dataset_public_final/predictions/tagdl_predictions_fold_6.txt  \n",
            "  inflating: genome_2021/movie_dataset_public_final/predictions/tagdl_predictions_fold_7.txt  \n",
            "  inflating: genome_2021/movie_dataset_public_final/predictions/glmer_predictions_fold_2.txt  \n",
            "  inflating: genome_2021/movie_dataset_public_final/predictions/glmer_predictions_fold_6.txt  \n",
            "  inflating: genome_2021/movie_dataset_public_final/predictions/tagdl_predictions_fold_3.txt  \n",
            "  inflating: genome_2021/movie_dataset_public_final/predictions/tagdl_predictions_fold_2.txt  \n",
            "  inflating: genome_2021/movie_dataset_public_final/predictions/glmer_predictions_fold_7.txt  \n",
            "  inflating: genome_2021/movie_dataset_public_final/predictions/glmer_predictions_fold_5.txt  \n",
            "  inflating: genome_2021/movie_dataset_public_final/predictions/tagdl_predictions_fold_0.txt  \n",
            "  inflating: genome_2021/movie_dataset_public_final/predictions/tagdl_predictions_fold_1.txt  \n",
            "  inflating: genome_2021/movie_dataset_public_final/predictions/glmer_predictions_fold_4.txt  \n",
            "  inflating: genome_2021/movie_dataset_public_final/predictions/glmer_predictions_fold_9.txt  \n",
            "  inflating: genome_2021/movie_dataset_public_final/predictions/glmer_predictions_fold_8.txt  \n",
            "  inflating: genome_2021/movie_dataset_public_final/predictions/performance_results_tenfolds.txt  \n",
            "  inflating: genome_2021/__MACOSX/movie_dataset_public_final/predictions/._performance_results_tenfolds.txt  \n",
            "  inflating: genome_2021/movie_dataset_public_final/predictions/tagdl_predictions_fold_9.txt  \n",
            "  inflating: genome_2021/movie_dataset_public_final/predictions/tagdl_predictions_fold_8.txt  \n",
            "  inflating: genome_2021/movie_dataset_public_final/processed/10folds/.DS_Store  \n",
            "  inflating: genome_2021/__MACOSX/movie_dataset_public_final/processed/10folds/._.DS_Store  \n",
            "  inflating: genome_2021/movie_dataset_public_final/processed/10folds/train6.csv  \n",
            "  inflating: genome_2021/movie_dataset_public_final/processed/10folds/train7.csv  \n",
            "  inflating: genome_2021/movie_dataset_public_final/processed/10folds/train5.csv  \n",
            "  inflating: genome_2021/movie_dataset_public_final/processed/10folds/train4.csv  \n",
            "  inflating: genome_2021/movie_dataset_public_final/processed/10folds/train0.csv  \n",
            "  inflating: genome_2021/movie_dataset_public_final/processed/10folds/train1.csv  \n",
            "  inflating: genome_2021/movie_dataset_public_final/processed/10folds/train3.csv  \n",
            "  inflating: genome_2021/movie_dataset_public_final/processed/10folds/test8.csv  \n",
            "  inflating: genome_2021/movie_dataset_public_final/processed/10folds/test9.csv  \n",
            "  inflating: genome_2021/movie_dataset_public_final/processed/10folds/train2.csv  \n",
            "  inflating: genome_2021/movie_dataset_public_final/processed/10folds/test4.csv  \n",
            "  inflating: genome_2021/movie_dataset_public_final/processed/10folds/test5.csv  \n",
            "  inflating: genome_2021/movie_dataset_public_final/processed/10folds/test7.csv  \n",
            "  inflating: genome_2021/movie_dataset_public_final/processed/10folds/test6.csv  \n",
            "  inflating: genome_2021/movie_dataset_public_final/processed/10folds/train9.csv  \n",
            "  inflating: genome_2021/movie_dataset_public_final/processed/10folds/test2.csv  \n",
            "  inflating: genome_2021/movie_dataset_public_final/processed/10folds/test3.csv  \n",
            "  inflating: genome_2021/movie_dataset_public_final/processed/10folds/train8.csv  \n",
            "  inflating: genome_2021/movie_dataset_public_final/processed/10folds/test1.csv  \n",
            "  inflating: genome_2021/movie_dataset_public_final/processed/10folds/test0.csv  \n"
          ]
        }
      ]
    },
    {
      "cell_type": "code",
      "source": [
        "#displaying the size of the extracted folder\n",
        "!du -sh /content/drive/MyDrive/BigData_FinalProject/datasets/genome_2021/movie_dataset_public_final/raw\n"
      ],
      "metadata": {
        "colab": {
          "base_uri": "https://localhost:8080/"
        },
        "id": "uUgrLdqfT4wI",
        "outputId": "5ff3e8ab-0f6c-4c6d-f205-4d1cf01f29f6"
      },
      "execution_count": null,
      "outputs": [
        {
          "output_type": "stream",
          "name": "stdout",
          "text": [
            "5.1G\t/content/drive/MyDrive/BigData_FinalProject/datasets/genome_2021/movie_dataset_public_final/raw\n"
          ]
        }
      ]
    },
    {
      "cell_type": "code",
      "source": [
        "!head -3 /content/genome_2021/movie_dataset_public_final/raw/reviews.json"
      ],
      "metadata": {
        "colab": {
          "base_uri": "https://localhost:8080/"
        },
        "id": "bDus5e-TUceZ",
        "outputId": "d92fd4a0-6b72-4ea3-c431-d8090e6fe76e"
      },
      "execution_count": null,
      "outputs": [
        {
          "output_type": "stream",
          "name": "stdout",
          "text": [
            "{\"item_id\": 172063, \"txt\": \"one-shot record of a belly dancer; \\\"Carmencita Dancing,\\\" one of a series of Edison short films featuring \\r circus and vaudeville acts, displayed the... um... \\\"talents\\\" of a zaftig belly-dancer who agreed to undulate before the camera of the famous \\\"Black \\r Maria\\\" studio. \\r \\r The dance was originally intended to be played in a Kinetoscope, a single -person arcade viewer connected to Edison's more famous invention, the phonograph. Through a pair of crude headphones, the latter device supplied an asynchronous soundtrack of \\\"hootchie-cootchie\\\" music. \\r \\r The Kinetograph camera here employed is so new -- even to its inventors \\r -- that director Dickson has drastically \\\"overcranked\\\" the film, unintentionally producing one of the first examples of slow-motion.\\r \\r Carmencita's titillating movements were considered by many to be \\r scandalous. Thus, the film prompted some of the earliest discussions of film censorship.\"}\n",
            "{\"item_id\": 95541, \"txt\": \"Banging Away..; Thomas Edison and William K.L. Dickson's \\\"Blacksmith Scene,\\\" was the first film shown publicly in 1893. This short is a brief look at 3 workers as they go about their daily ritual. Great piece of work for its time. In the early days of cinema, directors typically recorded everyday events such as the arrival of ships or workers leaving a factory. These short films were called \\\"actualities.\\\" Later, with the advent of better equipment (which could record for longer), directors began to introduce more complicated narratives into film. 10* (10* Rating System)\"}\n",
            "{\"item_id\": 7065, \"txt\": \"unbelievable; I cannot understand how anyone can call this one of the greatest movies ever made. It is disgraceful and appalling. I guess it is still high entertainment to see white actors in black face and watch a film loaded with stereotype.\"}\n"
          ]
        }
      ]
    },
    {
      "cell_type": "code",
      "source": [
        "!cp -r /content/genome_2021 /content/drive/MyDrive/BigData_FinalProject/datasets"
      ],
      "metadata": {
        "id": "i2GrfDbVVXPx"
      },
      "execution_count": null,
      "outputs": []
    },
    {
      "cell_type": "code",
      "source": [
        "import gdown\n",
        "gdown.download('https://drive.google.com/uc?id=1R3wJPgyzEX9w6EI8_LmqLbpY4cIC9gw4',output=None, quiet=False)"
      ],
      "metadata": {
        "colab": {
          "base_uri": "https://localhost:8080/",
          "height": 103
        },
        "id": "_Gwv5ERndRnn",
        "outputId": "d35d81f3-22bb-4c71-d405-222bbf81acd3"
      },
      "execution_count": null,
      "outputs": [
        {
          "output_type": "stream",
          "name": "stderr",
          "text": [
            "Downloading...\n",
            "From: https://drive.google.com/uc?id=1R3wJPgyzEX9w6EI8_LmqLbpY4cIC9gw4\n",
            "To: /content/goodreads_books_children.json.gz\n",
            "100%|██████████| 102M/102M [00:00<00:00, 120MB/s] \n"
          ]
        },
        {
          "output_type": "execute_result",
          "data": {
            "application/vnd.google.colaboratory.intrinsic+json": {
              "type": "string"
            },
            "text/plain": [
              "'goodreads_books_children.json.gz'"
            ]
          },
          "metadata": {},
          "execution_count": 26
        }
      ]
    },
    {
      "cell_type": "code",
      "source": [
        "import gdown\n",
        "import os\n",
        "os.chdir('/content/drive/MyDrive')"
      ],
      "metadata": {
        "id": "DSkMlAE4ffla"
      },
      "execution_count": null,
      "outputs": []
    },
    {
      "cell_type": "code",
      "source": [
        "gdown.download('https://drive.google.com/u/0/uc?export=download&confirm=WTxF&id=1zmylV7XW2dfQVCLeg1LbllfQtHD2KUon',output=None, quiet=False)"
      ],
      "metadata": {
        "colab": {
          "base_uri": "https://localhost:8080/",
          "height": 102
        },
        "id": "EWJTXLRQhZJj",
        "outputId": "5b38f859-ed6f-4352-8f95-eebdb16d0108"
      },
      "execution_count": null,
      "outputs": [
        {
          "output_type": "stream",
          "name": "stderr",
          "text": [
            "Downloading...\n",
            "From: https://drive.google.com/u/0/uc?export=download&confirm=WTxF&id=1zmylV7XW2dfQVCLeg1LbllfQtHD2KUon\n",
            "To: /content/drive/MyDrive/goodreads_interactions.csv\n",
            "100%|██████████| 4.32G/4.32G [01:11<00:00, 60.5MB/s]\n"
          ]
        },
        {
          "output_type": "execute_result",
          "data": {
            "application/vnd.google.colaboratory.intrinsic+json": {
              "type": "string"
            },
            "text/plain": [
              "'goodreads_interactions.csv'"
            ]
          },
          "metadata": {},
          "execution_count": 4
        }
      ]
    },
    {
      "cell_type": "code",
      "source": [
        "url_dict={'/content/drive/MyDrive/BigData_FinalProject/datasets/GoodReads_Dataset/History & Biography':['https://drive.google.com/uc?id=1roQnVtWxVE1tbiXyabrotdZyUY7FA82W',\n",
        "          'https://drive.google.com/uc?id=10j181giCD94pcYynd6fy2U0RyAlL66YH',\n",
        "          'https://drive.google.com/uc?id=1lDkTzM6zpYU-HGkVAQgsw0dBzik-Zde9'],\n",
        "          '/content/drive/MyDrive/BigData_FinalProject/datasets/GoodReads_Dataset/Mystery, Thriller & Crime':['https://drive.google.com/uc?id=1ACGrQS0sX4-26D358G2i5pja1Y6CsGtz',\n",
        "          'https://drive.google.com/uc?id=1xuujDT-vOMMkk2Kog0CTT9ADmnD8pa9D',\n",
        "          'https://drive.google.com/uc?id=1ONpyuv0vrtd6iUEp0-zzkKqwpm3njEqi'],\n",
        "          '/content/drive/MyDrive/BigData_FinalProject/datasets/GoodReads_Dataset/Poetry':['https://drive.google.com/uc?id=1H6xUV48D5sa2uSF_BusW-IBJ7PCQZTS1',\n",
        "          'https://drive.google.com/uc?id=17G5_MeSWuhYnD4fGJMvKRSOlBqCCimxJ',\n",
        "          'https://drive.google.com/uc?id=1FVD3LxJXRc5GrKm97LehLgVGbRfF9TyO'],\n",
        "          '/content/drive/MyDrive/BigData_FinalProject/datasets/GoodReads_Dataset/Romance':['https://drive.google.com/uc?id=1juZreOlU4FhGnBfP781jAvYdv-UPSf6Q',\n",
        "          'https://drive.google.com/uc?id=1OmPKA0TmL0nnECDRNF1YpWJw6PBDFl_j',\n",
        "          'https://drive.google.com/uc?id=1NpFsDQKBj_lrTzSASfyKbmkSykzN88wE'],\n",
        "          '/content/drive/MyDrive/BigData_FinalProject/datasets/GoodReads_Dataset/Young Adult':['https://drive.google.com/uc?id=1gH7dG4yQzZykTpbHYsrw2nFknjUm0Mol',\n",
        "          'https://drive.google.com/uc?id=1NNX7SWcKahezLFNyiW88QFPAqOAYP5qg',\n",
        "          'https://drive.google.com/uc?id=1M5iqCZ8a7rZRtsmY5KQ5rYnP9S0bQJVo']}"
      ],
      "metadata": {
        "id": "pBWjk0AYhcKM"
      },
      "execution_count": null,
      "outputs": []
    },
    {
      "cell_type": "code",
      "source": [
        "for path in url_dict:\n",
        "  os.chdir(path)\n",
        "  for url in url_dict[path]:\n",
        "    gdown.download(url,output=None, quiet=False)"
      ],
      "metadata": {
        "colab": {
          "base_uri": "https://localhost:8080/"
        },
        "id": "rV4zEGNLkyPx",
        "outputId": "b85947cd-29a7-4a73-86f8-a01c52b75856"
      },
      "execution_count": null,
      "outputs": [
        {
          "output_type": "stream",
          "name": "stderr",
          "text": [
            "Downloading...\n",
            "From: https://drive.google.com/uc?id=1roQnVtWxVE1tbiXyabrotdZyUY7FA82W\n",
            "To: /content/drive/MyDrive/BigData_FinalProject/datasets/GoodReads_Dataset/History & Biography/goodreads_books_history_biography.json.gz\n",
            "100%|██████████| 324M/324M [00:04<00:00, 78.1MB/s]\n",
            "Downloading...\n",
            "From: https://drive.google.com/uc?id=10j181giCD94pcYynd6fy2U0RyAlL66YH\n",
            "To: /content/drive/My Drive/BigData_FinalProject/datasets/GoodReads_Dataset/History & Biography/goodreads_interactions_history_biography.json.gz\n",
            "100%|██████████| 1.67G/1.67G [00:23<00:00, 70.2MB/s]\n",
            "Downloading...\n",
            "From: https://drive.google.com/uc?id=1lDkTzM6zpYU-HGkVAQgsw0dBzik-Zde9\n",
            "To: /content/drive/My Drive/BigData_FinalProject/datasets/GoodReads_Dataset/History & Biography/goodreads_reviews_history_biography.json.gz\n",
            "100%|██████████| 754M/754M [00:16<00:00, 45.5MB/s]\n",
            "Downloading...\n",
            "From: https://drive.google.com/uc?id=1ACGrQS0sX4-26D358G2i5pja1Y6CsGtz\n",
            "To: /content/drive/My Drive/BigData_FinalProject/datasets/GoodReads_Dataset/Mystery, Thriller & Crime/goodreads_books_mystery_thriller_crime.json.gz\n",
            "100%|██████████| 231M/231M [00:02<00:00, 102MB/s]\n",
            "Downloading...\n",
            "From: https://drive.google.com/uc?id=1xuujDT-vOMMkk2Kog0CTT9ADmnD8pa9D\n",
            "To: /content/drive/My Drive/BigData_FinalProject/datasets/GoodReads_Dataset/Mystery, Thriller & Crime/goodreads_interactions_mystery_thriller_crime.json.gz\n",
            "100%|██████████| 1.33G/1.33G [00:23<00:00, 57.6MB/s]\n",
            "Downloading...\n",
            "From: https://drive.google.com/uc?id=1ONpyuv0vrtd6iUEp0-zzkKqwpm3njEqi\n",
            "To: /content/drive/My Drive/BigData_FinalProject/datasets/GoodReads_Dataset/Mystery, Thriller & Crime/goodreads_reviews_mystery_thriller_crime.json.gz\n",
            "100%|██████████| 610M/610M [00:12<00:00, 48.4MB/s]\n",
            "Downloading...\n",
            "From: https://drive.google.com/uc?id=1H6xUV48D5sa2uSF_BusW-IBJ7PCQZTS1\n",
            "To: /content/drive/MyDrive/BigData_FinalProject/datasets/GoodReads_Dataset/Poetry/goodreads_books_poetry.json.gz\n",
            "100%|██████████| 27.9M/27.9M [00:00<00:00, 49.0MB/s]\n",
            "Downloading...\n",
            "From: https://drive.google.com/uc?id=17G5_MeSWuhYnD4fGJMvKRSOlBqCCimxJ\n",
            "To: /content/drive/MyDrive/BigData_FinalProject/datasets/GoodReads_Dataset/Poetry/goodreads_interactions_poetry.json.gz\n",
            "100%|██████████| 152M/152M [00:04<00:00, 33.3MB/s]\n",
            "Downloading...\n",
            "From: https://drive.google.com/uc?id=1FVD3LxJXRc5GrKm97LehLgVGbRfF9TyO\n",
            "To: /content/drive/My Drive/BigData_FinalProject/datasets/GoodReads_Dataset/Poetry/goodreads_reviews_poetry.json.gz\n",
            "100%|██████████| 49.3M/49.3M [00:01<00:00, 43.8MB/s]\n",
            "Downloading...\n",
            "From: https://drive.google.com/uc?id=1juZreOlU4FhGnBfP781jAvYdv-UPSf6Q\n",
            "To: /content/drive/My Drive/BigData_FinalProject/datasets/GoodReads_Dataset/Romance/goodreads_books_romance.json.gz\n",
            "100%|██████████| 365M/365M [00:11<00:00, 30.5MB/s]\n",
            "Downloading...\n",
            "From: https://drive.google.com/uc?id=1OmPKA0TmL0nnECDRNF1YpWJw6PBDFl_j\n",
            "To: /content/drive/My Drive/BigData_FinalProject/datasets/GoodReads_Dataset/Romance/goodreads_interactions_romance.json.gz\n",
            "100%|██████████| 2.29G/2.29G [00:31<00:00, 71.7MB/s]\n",
            "Downloading...\n",
            "From: https://drive.google.com/uc?id=1NpFsDQKBj_lrTzSASfyKbmkSykzN88wE\n",
            "To: /content/drive/My Drive/BigData_FinalProject/datasets/GoodReads_Dataset/Romance/goodreads_reviews_romance.json.gz\n",
            "100%|██████████| 1.30G/1.30G [00:23<00:00, 56.3MB/s]\n",
            "Downloading...\n",
            "From: https://drive.google.com/uc?id=1gH7dG4yQzZykTpbHYsrw2nFknjUm0Mol\n",
            "To: /content/drive/My Drive/BigData_FinalProject/datasets/GoodReads_Dataset/Young Adult/goodreads_books_young_adult.json.gz\n",
            "100%|██████████| 105M/105M [00:01<00:00, 89.8MB/s]\n",
            "Downloading...\n",
            "From: https://drive.google.com/uc?id=1NNX7SWcKahezLFNyiW88QFPAqOAYP5qg\n",
            "To: /content/drive/My Drive/BigData_FinalProject/datasets/GoodReads_Dataset/Young Adult/goodreads_interactions_young_adult.json.gz\n",
            "100%|██████████| 1.84G/1.84G [00:34<00:00, 54.0MB/s]\n",
            "Downloading...\n",
            "From: https://drive.google.com/uc?id=1M5iqCZ8a7rZRtsmY5KQ5rYnP9S0bQJVo\n",
            "To: /content/drive/My Drive/BigData_FinalProject/datasets/GoodReads_Dataset/Young Adult/goodreads_reviews_young_adult.json.gz\n",
            "100%|██████████| 899M/899M [00:19<00:00, 46.3MB/s]\n"
          ]
        }
      ]
    },
    {
      "cell_type": "code",
      "source": [
        "imdb_url=['https://datasets.imdbws.com/name.basics.tsv.gz','https://datasets.imdbws.com/title.akas.tsv.gz',\n",
        "          'https://datasets.imdbws.com/title.basics.tsv.gz',\n",
        "          'https://datasets.imdbws.com/title.crew.tsv.gz',\n",
        "          'https://datasets.imdbws.com/title.episode.tsv.gz',\n",
        "          'https://datasets.imdbws.com/title.principals.tsv.gz',\n",
        "          'https://datasets.imdbws.com/title.ratings.tsv.gz']\n"
      ],
      "metadata": {
        "id": "1mpccOWnlNY5"
      },
      "execution_count": null,
      "outputs": []
    },
    {
      "cell_type": "code",
      "source": [
        "import gdown\n",
        "for url in imdb_url:\n",
        "  gdown.download(url,output=None, quiet=False)"
      ],
      "metadata": {
        "colab": {
          "base_uri": "https://localhost:8080/"
        },
        "id": "IYN7oh9293sS",
        "outputId": "79efad2f-0899-4848-dbd9-49fc47261ab8"
      },
      "execution_count": null,
      "outputs": [
        {
          "output_type": "stream",
          "name": "stderr",
          "text": [
            "Downloading...\n",
            "From: https://datasets.imdbws.com/name.basics.tsv.gz\n",
            "To: /content/drive/My Drive/BigData_FinalProject/datasets/IMDB_Subset/name.basics.tsv.gz\n",
            "100%|██████████| 221M/221M [00:05<00:00, 39.8MB/s]\n",
            "Downloading...\n",
            "From: https://datasets.imdbws.com/title.akas.tsv.gz\n",
            "To: /content/drive/My Drive/BigData_FinalProject/datasets/IMDB_Subset/title.akas.tsv.gz\n",
            "100%|██████████| 259M/259M [00:06<00:00, 39.9MB/s]\n",
            "Downloading...\n",
            "From: https://datasets.imdbws.com/title.basics.tsv.gz\n",
            "To: /content/drive/My Drive/BigData_FinalProject/datasets/IMDB_Subset/title.basics.tsv.gz\n",
            "100%|██████████| 150M/150M [00:05<00:00, 29.9MB/s]\n",
            "Downloading...\n",
            "From: https://datasets.imdbws.com/title.crew.tsv.gz\n",
            "To: /content/drive/My Drive/BigData_FinalProject/datasets/IMDB_Subset/title.crew.tsv.gz\n",
            "100%|██████████| 58.5M/58.5M [00:01<00:00, 46.7MB/s]\n",
            "Downloading...\n",
            "From: https://datasets.imdbws.com/title.episode.tsv.gz\n",
            "To: /content/drive/My Drive/BigData_FinalProject/datasets/IMDB_Subset/title.episode.tsv.gz\n",
            "100%|██████████| 34.7M/34.7M [00:00<00:00, 70.8MB/s]\n",
            "Downloading...\n",
            "From: https://datasets.imdbws.com/title.principals.tsv.gz\n",
            "To: /content/drive/My Drive/BigData_FinalProject/datasets/IMDB_Subset/title.principals.tsv.gz\n",
            "100%|██████████| 384M/384M [00:10<00:00, 37.6MB/s]\n",
            "Downloading...\n",
            "From: https://datasets.imdbws.com/title.ratings.tsv.gz\n",
            "To: /content/drive/My Drive/BigData_FinalProject/datasets/IMDB_Subset/title.ratings.tsv.gz\n",
            "100%|██████████| 5.99M/5.99M [00:00<00:00, 101MB/s]\n"
          ]
        }
      ]
    },
    {
      "cell_type": "code",
      "source": [
        "!gunzip -k /content/drive/MyDrive/BigData_FinalProject/datasets/IMDB_Subset/title.principals.tsv.gz"
      ],
      "metadata": {
        "id": "erRiQgEb-AWP"
      },
      "execution_count": null,
      "outputs": []
    },
    {
      "cell_type": "code",
      "source": [
        "!head -10 /content/drive/MyDrive/BigData_FinalProject/datasets/IMDB_Subset/title.principals.tsv"
      ],
      "metadata": {
        "colab": {
          "base_uri": "https://localhost:8080/"
        },
        "id": "7bKNDAue_KQh",
        "outputId": "69fea1b1-892d-4b70-b1c4-60b82c7f811f"
      },
      "execution_count": null,
      "outputs": [
        {
          "output_type": "stream",
          "name": "stdout",
          "text": [
            "tconst\tordering\tnconst\tcategory\tjob\tcharacters\n",
            "tt0000001\t1\tnm1588970\tself\t\\N\t[\"Self\"]\n",
            "tt0000001\t2\tnm0005690\tdirector\t\\N\t\\N\n",
            "tt0000001\t3\tnm0374658\tcinematographer\tdirector of photography\t\\N\n",
            "tt0000002\t1\tnm0721526\tdirector\t\\N\t\\N\n",
            "tt0000002\t2\tnm1335271\tcomposer\t\\N\t\\N\n",
            "tt0000003\t1\tnm0721526\tdirector\t\\N\t\\N\n",
            "tt0000003\t2\tnm1770680\tproducer\tproducer\t\\N\n",
            "tt0000003\t3\tnm1335271\tcomposer\t\\N\t\\N\n",
            "tt0000003\t4\tnm5442200\teditor\t\\N\t\\N\n"
          ]
        }
      ]
    },
    {
      "cell_type": "code",
      "source": [
        "os.chdir('/content/drive/MyDrive/BigData_FinalProject/datasets/IMDB_Subset/extracted')"
      ],
      "metadata": {
        "id": "FoKQAn6b_c-f"
      },
      "execution_count": null,
      "outputs": []
    },
    {
      "cell_type": "code",
      "source": [
        "file_paths=['/content/drive/MyDrive/BigData_FinalProject/datasets/IMDB_Subset/name.basics.tsv.gz',\n",
        "            '/content/drive/MyDrive/BigData_FinalProject/datasets/IMDB_Subset/title.akas.tsv.gz',\n",
        "            '/content/drive/MyDrive/BigData_FinalProject/datasets/IMDB_Subset/title.basics.tsv.gz',\n",
        "            '/content/drive/MyDrive/BigData_FinalProject/datasets/IMDB_Subset/title.crew.tsv.gz',\n",
        "            '/content/drive/MyDrive/BigData_FinalProject/datasets/IMDB_Subset/title.episode.tsv.gz',\n",
        "            '/content/drive/MyDrive/BigData_FinalProject/datasets/IMDB_Subset/title.principals.tsv.gz',\n",
        "            '/content/drive/MyDrive/BigData_FinalProject/datasets/IMDB_Subset/title.ratings.tsv.gz']"
      ],
      "metadata": {
        "id": "cUHf68oNAMlh"
      },
      "execution_count": null,
      "outputs": []
    },
    {
      "cell_type": "code",
      "source": [
        "for path in file_paths:\n",
        "  os.system('gunzip -k {}'.format(path))"
      ],
      "metadata": {
        "id": "8yB1-sXWAl46"
      },
      "execution_count": null,
      "outputs": []
    },
    {
      "cell_type": "code",
      "source": [
        ""
      ],
      "metadata": {
        "id": "Sv7gThKZA454"
      },
      "execution_count": null,
      "outputs": []
    },
    {
      "cell_type": "code",
      "source": [
        "url_dict={'/content/drive/MyDrive/FINALPROJECTDATA/Metadata':['https://drive.google.com/uc?id=1LXpK1UfqtP89H1tYy0pBGHjYk8IhigUK',\n",
        "          'https://drive.google.com/uc?id=19cdwyXwfXx_HDIgxXaHzH0mrx8nMyLvC',\n",
        "          'https://drive.google.com/uc?id=1TLmSvzHvTLLLMjMoQdkx6pBWon-4bli7',\n",
        "          'https://drive.google.com/uc?id=1op8D4e5BaxU2JcPUgxM3ZqrodajryFBb',\n",
        "          'https://drive.google.com/uc?id=1ah0_KpUterVi-AHxJ03iKD6O0NfbK0md'],\n",
        "          '/content/drive/MyDrive/FINALPROJECTDATA/Reviews':['https://drive.google.com/uc?id=1pQnXa7DWLdeUpvUFsKusYzwbA5CAAZx7',\n",
        "          'https://drive.google.com/uc?id=196W2kDoZXRPjzbTjM6uvTidn6aTpsFnS',\n",
        "          'https://drive.google.com/uc?id=1NYV4F1WGJg6QbV0rOSXi6Y1gFLwic94a'],\n",
        "          '/content/drive/MyDrive/FINALPROJECTDATA/Interactions':['https://drive.google.com/open?id=1zmylV7XW2dfQVCLeg1LbllfQtHD2KUon',\n",
        "          'https://drive.google.com/uc?id=15ax-h0Oi_Oyee8gY_aAQN6odoijmiz6Q',\n",
        "          'https://drive.google.com/uc?id=1CHTAaNwyzvbi1TR08MJrJ03BxA266Yxr']}"
      ],
      "metadata": {
        "id": "sbHG2dYSx-vI"
      },
      "execution_count": null,
      "outputs": []
    },
    {
      "cell_type": "code",
      "source": [
        "import gdown\n",
        "import os\n",
        "for path in url_dict:\n",
        "  os.chdir(path)\n",
        "  for url in url_dict[path]:\n",
        "    gdown.download(url,output=None, quiet=False)"
      ],
      "metadata": {
        "colab": {
          "base_uri": "https://localhost:8080/"
        },
        "outputId": "7aefb05a-e198-4fd9-d3ee-f8138325aa05",
        "id": "XdQyMHM8yonn"
      },
      "execution_count": null,
      "outputs": [
        {
          "output_type": "stream",
          "name": "stderr",
          "text": [
            "Downloading...\n",
            "From: https://drive.google.com/uc?id=1LXpK1UfqtP89H1tYy0pBGHjYk8IhigUK\n",
            "To: /content/drive/MyDrive/FINALPROJECTDATA/Metadata/goodreads_books.json.gz\n",
            "100%|██████████| 2.08G/2.08G [00:21<00:00, 98.5MB/s]\n",
            "Downloading...\n",
            "From: https://drive.google.com/uc?id=19cdwyXwfXx_HDIgxXaHzH0mrx8nMyLvC\n",
            "To: /content/drive/My Drive/FINALPROJECTDATA/Metadata/goodreads_book_authors.json.gz\n",
            "100%|██████████| 17.9M/17.9M [00:00<00:00, 32.9MB/s]\n",
            "Downloading...\n",
            "From: https://drive.google.com/uc?id=1TLmSvzHvTLLLMjMoQdkx6pBWon-4bli7\n",
            "To: /content/drive/My Drive/FINALPROJECTDATA/Metadata/goodreads_book_works.json.gz\n",
            "100%|██████████| 74.9M/74.9M [00:01<00:00, 44.5MB/s]\n",
            "Downloading...\n",
            "From: https://drive.google.com/uc?id=1op8D4e5BaxU2JcPUgxM3ZqrodajryFBb\n",
            "To: /content/drive/My Drive/FINALPROJECTDATA/Metadata/goodreads_book_series.json.gz\n",
            "100%|██████████| 28.3M/28.3M [00:00<00:00, 40.4MB/s]\n",
            "Downloading...\n",
            "From: https://drive.google.com/uc?id=1ah0_KpUterVi-AHxJ03iKD6O0NfbK0md\n",
            "To: /content/drive/My Drive/FINALPROJECTDATA/Metadata/goodreads_book_genres_initial.json.gz\n",
            "100%|██████████| 24.3M/24.3M [00:00<00:00, 27.3MB/s]\n",
            "Downloading...\n",
            "From: https://drive.google.com/uc?id=1pQnXa7DWLdeUpvUFsKusYzwbA5CAAZx7\n",
            "To: /content/drive/MyDrive/FINALPROJECTDATA/Reviews/goodreads_reviews_dedup.json.gz\n",
            "100%|██████████| 5.34G/5.34G [01:51<00:00, 47.8MB/s]\n",
            "Downloading...\n",
            "From: https://drive.google.com/uc?id=196W2kDoZXRPjzbTjM6uvTidn6aTpsFnS\n",
            "To: /content/drive/My Drive/FINALPROJECTDATA/Reviews/goodreads_reviews_spoiler.json.gz\n",
            "100%|██████████| 620M/620M [00:13<00:00, 45.9MB/s]\n",
            "Downloading...\n",
            "From: https://drive.google.com/uc?id=1NYV4F1WGJg6QbV0rOSXi6Y1gFLwic94a\n",
            "To: /content/drive/My Drive/FINALPROJECTDATA/Reviews/goodreads_reviews_spoiler_raw.json.gz\n",
            "100%|██████████| 661M/661M [00:24<00:00, 27.5MB/s]\n",
            "/usr/local/lib/python3.7/dist-packages/gdown/parse_url.py:31: UserWarning: You specified Google Drive Link but it is not the correct link to download the file. Maybe you should try: https://drive.google.com/uc?id=1zmylV7XW2dfQVCLeg1LbllfQtHD2KUon\n",
            "  .format(url='https://drive.google.com/uc?id={}'.format(file_id))\n",
            "Downloading...\n",
            "From: https://drive.google.com/open?id=1zmylV7XW2dfQVCLeg1LbllfQtHD2KUon\n",
            "To: /content/drive/My Drive/FINALPROJECTDATA/Interactions/open?id=1zmylV7XW2dfQVCLeg1LbllfQtHD2KUon\n",
            "63.7kB [00:00, 2.80MB/s]\n",
            "Downloading...\n",
            "From: https://drive.google.com/uc?id=15ax-h0Oi_Oyee8gY_aAQN6odoijmiz6Q\n",
            "To: /content/drive/My Drive/FINALPROJECTDATA/Interactions/user_id_map.csv\n",
            "100%|██████████| 34.9M/34.9M [00:01<00:00, 30.4MB/s]\n",
            "Downloading...\n",
            "From: https://drive.google.com/uc?id=1CHTAaNwyzvbi1TR08MJrJ03BxA266Yxr\n",
            "To: /content/drive/My Drive/FINALPROJECTDATA/Interactions/book_id_map.csv\n",
            "100%|██████████| 37.8M/37.8M [00:01<00:00, 29.2MB/s]\n"
          ]
        }
      ]
    },
    {
      "cell_type": "code",
      "source": [
        "from google.colab import drive\n",
        "drive.mount('/content/drive')"
      ],
      "metadata": {
        "colab": {
          "base_uri": "https://localhost:8080/"
        },
        "id": "ydEXfP7eysqg",
        "outputId": "e0798681-c276-4b48-b64c-280bca362dff"
      },
      "execution_count": null,
      "outputs": [
        {
          "output_type": "stream",
          "name": "stdout",
          "text": [
            "Mounted at /content/drive\n"
          ]
        }
      ]
    }
  ]
}